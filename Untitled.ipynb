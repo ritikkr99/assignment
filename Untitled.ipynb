{
 "cells": [
  {
   "cell_type": "code",
   "execution_count": null,
   "id": "671eba8d",
   "metadata": {},
   "outputs": [],
   "source": [
    "Cassandra was designed by facebook\n",
    "why we are using cassandra\n",
    "1. high availability- \n",
    "2. Scalability- we can add as much as data we want like first we need 10gb after sometime we need 100gb"
   ]
  },
  {
   "cell_type": "markdown",
   "id": "0fda8ac1",
   "metadata": {},
   "source": []
  }
 ],
 "metadata": {
  "kernelspec": {
   "display_name": "Python 3 (ipykernel)",
   "language": "python",
   "name": "python3"
  },
  "language_info": {
   "codemirror_mode": {
    "name": "ipython",
    "version": 3
   },
   "file_extension": ".py",
   "mimetype": "text/x-python",
   "name": "python",
   "nbconvert_exporter": "python",
   "pygments_lexer": "ipython3",
   "version": "3.9.12"
  }
 },
 "nbformat": 4,
 "nbformat_minor": 5
}
