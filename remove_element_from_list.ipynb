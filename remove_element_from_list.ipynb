{
  "nbformat": 4,
  "nbformat_minor": 0,
  "metadata": {
    "colab": {
      "provenance": [],
      "authorship_tag": "ABX9TyMhzds5A3Dnk+jA/xb3Vs7/",
      "include_colab_link": true
    },
    "kernelspec": {
      "name": "python3",
      "display_name": "Python 3"
    },
    "language_info": {
      "name": "python"
    }
  },
  "cells": [
    {
      "cell_type": "markdown",
      "metadata": {
        "id": "view-in-github",
        "colab_type": "text"
      },
      "source": [
        "<a href=\"https://colab.research.google.com/github/ritikkr99/assignment/blob/main/remove_element_from_list.ipynb\" target=\"_parent\"><img src=\"https://colab.research.google.com/assets/colab-badge.svg\" alt=\"Open In Colab\"/></a>"
      ]
    },
    {
      "cell_type": "code",
      "execution_count": 22,
      "metadata": {
        "id": "uFS0gdL52Fup"
      },
      "outputs": [],
      "source": [
        "def delete_el(list1):\n",
        "  for i in list1[:]:\n",
        "    if i>15 or i<12:\n",
        "      list1.remove(i)\n",
        "  return list1"
      ]
    },
    {
      "cell_type": "code",
      "source": [
        "dataset=[11,12,13,14,15,16,17]\n",
        "delete_el(dataset)\n"
      ],
      "metadata": {
        "colab": {
          "base_uri": "https://localhost:8080/"
        },
        "id": "XD8-oSli3Yh-",
        "outputId": "0c7fa812-6263-43c8-95df-e24a0e85783c"
      },
      "execution_count": 23,
      "outputs": [
        {
          "output_type": "execute_result",
          "data": {
            "text/plain": [
              "[12, 13, 14, 15]"
            ]
          },
          "metadata": {},
          "execution_count": 23
        }
      ]
    },
    {
      "cell_type": "code",
      "source": [],
      "metadata": {
        "id": "MqWqoaLs3i2h"
      },
      "execution_count": null,
      "outputs": []
    }
  ]
}