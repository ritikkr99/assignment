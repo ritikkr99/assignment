{
  "nbformat": 4,
  "nbformat_minor": 0,
  "metadata": {
    "colab": {
      "provenance": [],
      "authorship_tag": "ABX9TyNziMS6ig91o8n4c8j5c9Qt",
      "include_colab_link": true
    },
    "kernelspec": {
      "name": "python3",
      "display_name": "Python 3"
    },
    "language_info": {
      "name": "python"
    }
  },
  "cells": [
    {
      "cell_type": "markdown",
      "metadata": {
        "id": "view-in-github",
        "colab_type": "text"
      },
      "source": [
        "<a href=\"https://colab.research.google.com/github/ritikkr99/assignment/blob/main/Arrays.ipynb\" target=\"_parent\"><img src=\"https://colab.research.google.com/assets/colab-badge.svg\" alt=\"Open In Colab\"/></a>"
      ]
    },
    {
      "cell_type": "markdown",
      "source": [
        "#Arrays"
      ],
      "metadata": {
        "id": "h1X0_dWl9Efd"
      }
    },
    {
      "cell_type": "markdown",
      "source": [
        "array is basically a data structure which can hold more than one value at a time. It is a collection or ordered series of element of same type."
      ],
      "metadata": {
        "id": "o7-37KqA9SIF"
      }
    },
    {
      "cell_type": "code",
      "execution_count": 1,
      "metadata": {
        "id": "yeTOJkpx8uge"
      },
      "outputs": [],
      "source": [
        "import array as arr\n"
      ]
    },
    {
      "cell_type": "code",
      "source": [
        "a = arr.array('i',[1,2,3,4,5])"
      ],
      "metadata": {
        "id": "GtFzrjJo9-0M"
      },
      "execution_count": 2,
      "outputs": []
    },
    {
      "cell_type": "code",
      "source": [
        "a"
      ],
      "metadata": {
        "colab": {
          "base_uri": "https://localhost:8080/"
        },
        "id": "50bloI0p-K2Z",
        "outputId": "72236e9a-0fb9-4911-95d3-4daf01a35618"
      },
      "execution_count": 3,
      "outputs": [
        {
          "output_type": "execute_result",
          "data": {
            "text/plain": [
              "array('i', [1, 2, 3, 4, 5])"
            ]
          },
          "metadata": {},
          "execution_count": 3
        }
      ]
    },
    {
      "cell_type": "markdown",
      "source": [
        "**accessing elements**"
      ],
      "metadata": {
        "id": "2JOBQsB2_Oe4"
      }
    },
    {
      "cell_type": "code",
      "source": [
        "a[2]"
      ],
      "metadata": {
        "colab": {
          "base_uri": "https://localhost:8080/"
        },
        "id": "pPcZE1Za-L7t",
        "outputId": "8cf9e2f6-e95f-4681-eaa7-f5c98bf5caa0"
      },
      "execution_count": 4,
      "outputs": [
        {
          "output_type": "execute_result",
          "data": {
            "text/plain": [
              "3"
            ]
          },
          "metadata": {},
          "execution_count": 4
        }
      ]
    },
    {
      "cell_type": "markdown",
      "source": [
        "finding the length of the array"
      ],
      "metadata": {
        "id": "UnafCRSy_dZw"
      }
    },
    {
      "cell_type": "code",
      "source": [
        "len(a)"
      ],
      "metadata": {
        "colab": {
          "base_uri": "https://localhost:8080/"
        },
        "id": "gbURC4lN_TJ4",
        "outputId": "26863ec8-d25f-44d0-cfcf-6a89f3693073"
      },
      "execution_count": 5,
      "outputs": [
        {
          "output_type": "execute_result",
          "data": {
            "text/plain": [
              "5"
            ]
          },
          "metadata": {},
          "execution_count": 5
        }
      ]
    },
    {
      "cell_type": "markdown",
      "source": [
        "**adding elements to the array**\n",
        "\n",
        "append(),extend() and insert()"
      ],
      "metadata": {
        "id": "Y19xeucO_r4s"
      }
    },
    {
      "cell_type": "code",
      "source": [
        "a.append(8)\n",
        "a"
      ],
      "metadata": {
        "colab": {
          "base_uri": "https://localhost:8080/"
        },
        "id": "PP82Gq9B_mmH",
        "outputId": "85c83510-3442-4803-a16d-7879e2519b85"
      },
      "execution_count": 6,
      "outputs": [
        {
          "output_type": "execute_result",
          "data": {
            "text/plain": [
              "array('i', [1, 2, 3, 4, 5, 8])"
            ]
          },
          "metadata": {},
          "execution_count": 6
        }
      ]
    },
    {
      "cell_type": "code",
      "source": [
        "a.extend([])\n",
        "a"
      ],
      "metadata": {
        "colab": {
          "base_uri": "https://localhost:8080/"
        },
        "id": "AUpvzzekAGji",
        "outputId": "1e332bf7-9466-4641-c393-9e2e7b18e459"
      },
      "execution_count": 7,
      "outputs": [
        {
          "output_type": "execute_result",
          "data": {
            "text/plain": [
              "array('i', [1, 2, 3, 4, 5, 8])"
            ]
          },
          "metadata": {},
          "execution_count": 7
        }
      ]
    },
    {
      "cell_type": "code",
      "source": [
        "a.insert(2,100)\n",
        "a"
      ],
      "metadata": {
        "colab": {
          "base_uri": "https://localhost:8080/"
        },
        "id": "9j5cUOilAVWv",
        "outputId": "77a6bf90-84d0-4a36-8ecf-b98c76f6aef5"
      },
      "execution_count": 8,
      "outputs": [
        {
          "output_type": "execute_result",
          "data": {
            "text/plain": [
              "array('i', [1, 2, 100, 3, 4, 5, 8])"
            ]
          },
          "metadata": {},
          "execution_count": 8
        }
      ]
    },
    {
      "cell_type": "markdown",
      "source": [
        "**remove elements from array**\n",
        "\n",
        "  1.pop()\n",
        "   \n",
        "   when you want to remove the an element from an array.\n",
        "\n",
        "  2.remove()\n",
        "\n",
        "   when you want to remove an element with a specific value without returning it."
      ],
      "metadata": {
        "id": "zTcfEq94A4FP"
      }
    },
    {
      "cell_type": "code",
      "source": [
        "a.pop()"
      ],
      "metadata": {
        "colab": {
          "base_uri": "https://localhost:8080/"
        },
        "id": "eb4UPH_IAoXe",
        "outputId": "90ce1791-e0b9-49fc-f969-506f4e00163d"
      },
      "execution_count": 9,
      "outputs": [
        {
          "output_type": "execute_result",
          "data": {
            "text/plain": [
              "8"
            ]
          },
          "metadata": {},
          "execution_count": 9
        }
      ]
    },
    {
      "cell_type": "code",
      "source": [
        "a"
      ],
      "metadata": {
        "colab": {
          "base_uri": "https://localhost:8080/"
        },
        "id": "eU2vlV3IB1tH",
        "outputId": "77959a3f-4f40-4cef-bdcb-6ac2f68af8b9"
      },
      "execution_count": 10,
      "outputs": [
        {
          "output_type": "execute_result",
          "data": {
            "text/plain": [
              "array('i', [1, 2, 100, 3, 4, 5])"
            ]
          },
          "metadata": {},
          "execution_count": 10
        }
      ]
    },
    {
      "cell_type": "code",
      "source": [
        "a.remove(5)\n",
        "a"
      ],
      "metadata": {
        "colab": {
          "base_uri": "https://localhost:8080/"
        },
        "id": "9l0CU2VJCEL5",
        "outputId": "16a87d1a-a1cb-4b38-b7df-92459f65445b"
      },
      "execution_count": 12,
      "outputs": [
        {
          "output_type": "execute_result",
          "data": {
            "text/plain": [
              "array('i', [1, 2, 100, 3, 4])"
            ]
          },
          "metadata": {},
          "execution_count": 12
        }
      ]
    },
    {
      "cell_type": "markdown",
      "source": [
        "**Array Concatenation**\n",
        "\n",
        "used to add two arrays"
      ],
      "metadata": {
        "id": "NRMYyAaZCc_E"
      }
    },
    {
      "cell_type": "code",
      "source": [
        "b = arr.array('i',[10,11,12,13])\n",
        "c = arr.array('i',[10,11,12,13])\n",
        "d = arr.array('i')\n",
        "d = b+c\n",
        "d"
      ],
      "metadata": {
        "colab": {
          "base_uri": "https://localhost:8080/"
        },
        "id": "OMvFsTdpCG4L",
        "outputId": "e7f5cdb2-5cca-40c2-edc3-98099714ea53"
      },
      "execution_count": 13,
      "outputs": [
        {
          "output_type": "execute_result",
          "data": {
            "text/plain": [
              "array('i', [10, 11, 12, 13, 10, 11, 12, 13])"
            ]
          },
          "metadata": {},
          "execution_count": 13
        }
      ]
    },
    {
      "cell_type": "markdown",
      "source": [
        "**Slicing an Array**"
      ],
      "metadata": {
        "id": "RA9T_a6wQq2H"
      }
    },
    {
      "cell_type": "code",
      "source": [
        "d"
      ],
      "metadata": {
        "id": "UYJJVFc2Dd95",
        "colab": {
          "base_uri": "https://localhost:8080/"
        },
        "outputId": "a1b2131a-b9eb-47c2-f788-21b0410cf74d"
      },
      "execution_count": 14,
      "outputs": [
        {
          "output_type": "execute_result",
          "data": {
            "text/plain": [
              "array('i', [10, 11, 12, 13, 10, 11, 12, 13])"
            ]
          },
          "metadata": {},
          "execution_count": 14
        }
      ]
    },
    {
      "cell_type": "code",
      "source": [
        "d[0:3]"
      ],
      "metadata": {
        "colab": {
          "base_uri": "https://localhost:8080/"
        },
        "id": "DFf0AhRAQ1nf",
        "outputId": "cf6cc25b-2379-4ac3-9c48-aeb08391eb2a"
      },
      "execution_count": 15,
      "outputs": [
        {
          "output_type": "execute_result",
          "data": {
            "text/plain": [
              "array('i', [10, 11, 12])"
            ]
          },
          "metadata": {},
          "execution_count": 15
        }
      ]
    },
    {
      "cell_type": "code",
      "source": [
        "d[0:-2]"
      ],
      "metadata": {
        "colab": {
          "base_uri": "https://localhost:8080/"
        },
        "id": "hETdsJIARKE8",
        "outputId": "080dfb12-70d5-424a-c21d-ae13ba3bea8a"
      },
      "execution_count": 16,
      "outputs": [
        {
          "output_type": "execute_result",
          "data": {
            "text/plain": [
              "array('i', [10, 11, 12, 13, 10, 11])"
            ]
          },
          "metadata": {},
          "execution_count": 16
        }
      ]
    },
    {
      "cell_type": "code",
      "source": [
        "d[::-1]"
      ],
      "metadata": {
        "colab": {
          "base_uri": "https://localhost:8080/"
        },
        "id": "nYfySxsTRTp2",
        "outputId": "246ecdfd-f0f7-4138-ebec-bedcb6c493f1"
      },
      "execution_count": 17,
      "outputs": [
        {
          "output_type": "execute_result",
          "data": {
            "text/plain": [
              "array('i', [13, 12, 11, 10, 13, 12, 11, 10])"
            ]
          },
          "metadata": {},
          "execution_count": 17
        }
      ]
    },
    {
      "cell_type": "markdown",
      "source": [
        "**Looping in Arrays**"
      ],
      "metadata": {
        "id": "BeAuyvJZRp-L"
      }
    },
    {
      "cell_type": "code",
      "source": [
        "for i in d:\n",
        "  print(i)"
      ],
      "metadata": {
        "colab": {
          "base_uri": "https://localhost:8080/"
        },
        "id": "ydzCpqrARYw3",
        "outputId": "cbeef859-c1ce-40f3-a4df-386e68aab3ad"
      },
      "execution_count": 18,
      "outputs": [
        {
          "output_type": "stream",
          "name": "stdout",
          "text": [
            "10\n",
            "11\n",
            "12\n",
            "13\n",
            "10\n",
            "11\n",
            "12\n",
            "13\n"
          ]
        }
      ]
    },
    {
      "cell_type": "code",
      "source": [],
      "metadata": {
        "id": "H83h3iRDSMb-"
      },
      "execution_count": null,
      "outputs": []
    }
  ]
}