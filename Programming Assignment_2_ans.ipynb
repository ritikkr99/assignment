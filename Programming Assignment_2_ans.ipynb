{
 "cells": [
  {
   "cell_type": "markdown",
   "id": "08c66ea5",
   "metadata": {},
   "source": [
    "## Programming Assignment_2\n",
    "-------------"
   ]
  },
  {
   "cell_type": "markdown",
   "id": "4e50cf42",
   "metadata": {},
   "source": [
    "### 1. Write a Python program to convert kilometers to miles?\n",
    "##### Sol."
   ]
  },
  {
   "cell_type": "code",
   "execution_count": 1,
   "id": "8d5eb295",
   "metadata": {},
   "outputs": [
    {
     "name": "stdout",
     "output_type": "stream",
     "text": [
      "For 10km equivalent distance in miles = 6.213727366498068\n"
     ]
    }
   ],
   "source": [
    "km = 10\n",
    "\n",
    "miles = km/1.60934\n",
    "\n",
    "print(\"For {}km equivalent distance in miles = {}\".format(km, miles))"
   ]
  },
  {
   "cell_type": "markdown",
   "id": "0df4e6bf",
   "metadata": {},
   "source": [
    "### 2.Write a Python program to convert Celsius to Fahrenheit?\n",
    "##### Sol."
   ]
  },
  {
   "cell_type": "code",
   "execution_count": 2,
   "id": "b26052b8",
   "metadata": {},
   "outputs": [
    {
     "name": "stdout",
     "output_type": "stream",
     "text": [
      "For Celsius = 20 equivalent Fahrenheit = 68.0\n"
     ]
    }
   ],
   "source": [
    "c = 20\n",
    "\n",
    "f = (9*c/5)+32\n",
    "\n",
    "print(\"For Celsius = {} equivalent Fahrenheit = {}\".format(c, f))"
   ]
  },
  {
   "cell_type": "markdown",
   "id": "46129b8e",
   "metadata": {},
   "source": [
    "### 3. Write a Python program to display calendar?\n",
    "##### Sol."
   ]
  },
  {
   "cell_type": "code",
   "execution_count": 5,
   "id": "57b648c9",
   "metadata": {},
   "outputs": [],
   "source": [
    "import calendar"
   ]
  },
  {
   "cell_type": "code",
   "execution_count": 7,
   "id": "195356fe",
   "metadata": {},
   "outputs": [
    {
     "name": "stdout",
     "output_type": "stream",
     "text": [
      "   November 2022\n",
      "Mo Tu We Th Fr Sa Su\n",
      "    1  2  3  4  5  6\n",
      " 7  8  9 10 11 12 13\n",
      "14 15 16 17 18 19 20\n",
      "21 22 23 24 25 26 27\n",
      "28 29 30\n",
      "\n"
     ]
    }
   ],
   "source": [
    "\n",
    "print(calendar.month(2022,11))"
   ]
  },
  {
   "cell_type": "code",
   "execution_count": 21,
   "id": "28f5a42c",
   "metadata": {},
   "outputs": [
    {
     "name": "stdout",
     "output_type": "stream",
     "text": [
      "                                  2020\n",
      "\n",
      "      January                   February                   March\n",
      "Mo Tu We Th Fr Sa Su      Mo Tu We Th Fr Sa Su      Mo Tu We Th Fr Sa Su\n",
      "       1  2  3  4  5                      1  2                         1\n",
      " 6  7  8  9 10 11 12       3  4  5  6  7  8  9       2  3  4  5  6  7  8\n",
      "13 14 15 16 17 18 19      10 11 12 13 14 15 16       9 10 11 12 13 14 15\n",
      "20 21 22 23 24 25 26      17 18 19 20 21 22 23      16 17 18 19 20 21 22\n",
      "27 28 29 30 31            24 25 26 27 28 29         23 24 25 26 27 28 29\n",
      "                                                    30 31\n",
      "\n",
      "       April                      May                       June\n",
      "Mo Tu We Th Fr Sa Su      Mo Tu We Th Fr Sa Su      Mo Tu We Th Fr Sa Su\n",
      "       1  2  3  4  5                   1  2  3       1  2  3  4  5  6  7\n",
      " 6  7  8  9 10 11 12       4  5  6  7  8  9 10       8  9 10 11 12 13 14\n",
      "13 14 15 16 17 18 19      11 12 13 14 15 16 17      15 16 17 18 19 20 21\n",
      "20 21 22 23 24 25 26      18 19 20 21 22 23 24      22 23 24 25 26 27 28\n",
      "27 28 29 30               25 26 27 28 29 30 31      29 30\n",
      "\n",
      "        July                     August                  September\n",
      "Mo Tu We Th Fr Sa Su      Mo Tu We Th Fr Sa Su      Mo Tu We Th Fr Sa Su\n",
      "       1  2  3  4  5                      1  2          1  2  3  4  5  6\n",
      " 6  7  8  9 10 11 12       3  4  5  6  7  8  9       7  8  9 10 11 12 13\n",
      "13 14 15 16 17 18 19      10 11 12 13 14 15 16      14 15 16 17 18 19 20\n",
      "20 21 22 23 24 25 26      17 18 19 20 21 22 23      21 22 23 24 25 26 27\n",
      "27 28 29 30 31            24 25 26 27 28 29 30      28 29 30\n",
      "                          31\n",
      "\n",
      "      October                   November                  December\n",
      "Mo Tu We Th Fr Sa Su      Mo Tu We Th Fr Sa Su      Mo Tu We Th Fr Sa Su\n",
      "          1  2  3  4                         1          1  2  3  4  5  6\n",
      " 5  6  7  8  9 10 11       2  3  4  5  6  7  8       7  8  9 10 11 12 13\n",
      "12 13 14 15 16 17 18       9 10 11 12 13 14 15      14 15 16 17 18 19 20\n",
      "19 20 21 22 23 24 25      16 17 18 19 20 21 22      21 22 23 24 25 26 27\n",
      "26 27 28 29 30 31         23 24 25 26 27 28 29      28 29 30 31\n",
      "                          30\n",
      "\n"
     ]
    }
   ],
   "source": [
    "year = 2020\n",
    "\n",
    "print(calendar.calendar(year))"
   ]
  },
  {
   "cell_type": "markdown",
   "id": "db2bf0f7",
   "metadata": {},
   "source": [
    "### 4. Write a Python program to solve quadratic equation?\n",
    "##### Sol."
   ]
  },
  {
   "cell_type": "code",
   "execution_count": 20,
   "id": "66aa2e8b",
   "metadata": {},
   "outputs": [
    {
     "name": "stdout",
     "output_type": "stream",
     "text": [
      "ax^2 + bx^1 + c = 0\n",
      "Enter the coeff a, b and constant c\n",
      "\n",
      "For quad eq. 6x^2 + (17)x^1 + 12\n",
      "The solutions are: -1.3333333333333333 and -1.5\n"
     ]
    }
   ],
   "source": [
    "\n",
    "import math\n",
    "\n",
    "print(\"ax^2 + bx^1 + c = 0\")\n",
    "print(\"Enter the coeff a, b and constant c\")\n",
    "\n",
    "a = int(input((\"Enter the coeff a: \")))\n",
    "b = int(input((\"Enter the coeff b: \")))\n",
    "c = int(input((\"Enter the constant c: \")))\n",
    "\n",
    "d = (b**2) - (4*a*c)\n",
    "\n",
    "root1 = ((-1*b)+(math.sqrt(d))) / (2*a)\n",
    "root2 = ((-1*b)-(math.sqrt(d))) / (2*a)\n",
    "\n",
    "print('\\nFor quad eq. {}x^2 + ({})x^1 + {}'.format(a,b,c))\n",
    "print('The solutions are: {} and {}'.format(root1, root2))"
   ]
  },
  {
   "cell_type": "markdown",
   "id": "f70f74c9",
   "metadata": {},
   "source": [
    "### 5. Write a Python program to swap two variables without temp variable?\n",
    "##### Sol."
   ]
  },
  {
   "cell_type": "code",
   "execution_count": 15,
   "id": "58514b20",
   "metadata": {},
   "outputs": [
    {
     "name": "stdout",
     "output_type": "stream",
     "text": [
      "Before swap:\n",
      "var1 = 44 and var2 = 88\n",
      "\n",
      "After swap:\n",
      "var1 = 88 and var2 = 44\n"
     ]
    }
   ],
   "source": [
    "var1 = 44\n",
    "var2 = 88\n",
    "print('Before swap:\\nvar1 = {} and var2 = {}'.format(var1, var2))\n",
    "var2 = var1 + var2\n",
    "var1 = var2 - var1\n",
    "var2 = var2 - var1\n",
    "\n",
    "print('\\nAfter swap:\\nvar1 = {} and var2 = {}'.format(var1, var2))"
   ]
  },
  {
   "cell_type": "code",
   "execution_count": null,
   "id": "3fbe6786",
   "metadata": {},
   "outputs": [],
   "source": []
  }
 ],
 "metadata": {
  "kernelspec": {
   "display_name": "Python 3.10.0 64-bit",
   "language": "python",
   "name": "python3"
  },
  "language_info": {
   "codemirror_mode": {
    "name": "ipython",
    "version": 3
   },
   "file_extension": ".py",
   "mimetype": "text/x-python",
   "name": "python",
   "nbconvert_exporter": "python",
   "pygments_lexer": "ipython3",
   "version": "3.10.5"
  },
  "vscode": {
   "interpreter": {
    "hash": "359f9b2c06205b9a05b97dc4590336e0621c876f6a173ca79c3311f710579e27"
   }
  }
 },
 "nbformat": 4,
 "nbformat_minor": 5
}
