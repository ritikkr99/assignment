{
  "nbformat": 4,
  "nbformat_minor": 0,
  "metadata": {
    "colab": {
      "provenance": [],
      "authorship_tag": "ABX9TyPrgvO6reXoDTisSrH/IgtE",
      "include_colab_link": true
    },
    "kernelspec": {
      "name": "python3",
      "display_name": "Python 3"
    },
    "language_info": {
      "name": "python"
    }
  },
  "cells": [
    {
      "cell_type": "markdown",
      "metadata": {
        "id": "view-in-github",
        "colab_type": "text"
      },
      "source": [
        "<a href=\"https://colab.research.google.com/github/ritikkr99/assignment/blob/main/lambda.ipynb\" target=\"_parent\"><img src=\"https://colab.research.google.com/assets/colab-badge.svg\" alt=\"Open In Colab\"/></a>"
      ]
    },
    {
      "cell_type": "markdown",
      "source": [
        "Python lambda functions are-\n",
        "\n",
        "\n",
        "*   anonymous function or nameless function.\n",
        "*   'lambda' is not a name, it is a keyword.\n",
        "\n",
        "Why they are used ?\n",
        "\n",
        "*   Also known as throw away function as they are needed only once\n",
        "*   They are also passed as a inputs or returned\n",
        "\n"
      ],
      "metadata": {
        "id": "aBfUhNIqyszh"
      }
    },
    {
      "cell_type": "markdown",
      "source": [
        "A lambda function is created using a lambda operator "
      ],
      "metadata": {
        "id": "5vMW2WAVKnJI"
      }
    },
    {
      "cell_type": "code",
      "source": [
        "x = lambda a:a*a\n",
        "x(5)"
      ],
      "metadata": {
        "colab": {
          "base_uri": "https://localhost:8080/"
        },
        "id": "jv-ZdKqjymMo",
        "outputId": "dab43b0b-12c3-4bac-8428-e43c376f6f22"
      },
      "execution_count": 11,
      "outputs": [
        {
          "output_type": "execute_result",
          "data": {
            "text/plain": [
              "25"
            ]
          },
          "metadata": {},
          "execution_count": 11
        }
      ]
    },
    {
      "cell_type": "code",
      "source": [
        "def new_func1(x):\n",
        "  return(lambda y:x+y)\n",
        "\n",
        "t=new_func1(4)\n",
        "print(t(8))"
      ],
      "metadata": {
        "id": "njGOyebnynzE",
        "colab": {
          "base_uri": "https://localhost:8080/"
        },
        "outputId": "6e028e7e-3c20-4670-acff-498af0fcf556"
      },
      "execution_count": 12,
      "outputs": [
        {
          "output_type": "stream",
          "name": "stdout",
          "text": [
            "12\n"
          ]
        }
      ]
    },
    {
      "cell_type": "markdown",
      "source": [
        "lambda within filter():-\n",
        "\n",
        "used to filter the given iterables(list,set,etc)with the help of another function passed as a arguement to test all the element to be true or false."
      ],
      "metadata": {
        "id": "SvwQ5Px_N06r"
      }
    },
    {
      "cell_type": "code",
      "source": [
        "my_list = [2,3,4,5,6,7]\n",
        "new_list = list(filter(lambda a:(a/3==2),my_list))\n",
        "print(new_list)"
      ],
      "metadata": {
        "colab": {
          "base_uri": "https://localhost:8080/"
        },
        "id": "WdhzfJMzMeGv",
        "outputId": "a04a359a-0fc5-4f73-d757-c6e2eb182ab1"
      },
      "execution_count": 13,
      "outputs": [
        {
          "output_type": "stream",
          "name": "stdout",
          "text": [
            "[6]\n"
          ]
        }
      ]
    },
    {
      "cell_type": "markdown",
      "source": [
        "lambda within map()\n",
        "\n",
        "applies to a given function to all the iterables and return a new list"
      ],
      "metadata": {
        "id": "K3LJmO6rP2y1"
      }
    },
    {
      "cell_type": "code",
      "source": [
        "my_list=[1,2,3,4,5,6]\n",
        "new_list=list(map(lambda a:(a/3!=2),my_list))\n",
        "print(new_list)"
      ],
      "metadata": {
        "colab": {
          "base_uri": "https://localhost:8080/"
        },
        "id": "un7k0nizPDEJ",
        "outputId": "5a7490ba-b9ba-4631-ca22-80803ebc56b9"
      },
      "execution_count": 14,
      "outputs": [
        {
          "output_type": "stream",
          "name": "stdout",
          "text": [
            "[True, True, True, True, True, False]\n"
          ]
        }
      ]
    },
    {
      "cell_type": "markdown",
      "source": [
        "**Lambda within reduce()**\n",
        "\n",
        "applies some other function to the list of elements that are passed as a parameter to it and finally return a single value"
      ],
      "metadata": {
        "id": "SBFeQsmMbDgx"
      }
    },
    {
      "cell_type": "code",
      "source": [
        "from functools import reduce\n",
        "reduce(lambda a,b:a+b,[23,24,25,26])"
      ],
      "metadata": {
        "colab": {
          "base_uri": "https://localhost:8080/"
        },
        "id": "da3RYMwia6MD",
        "outputId": "8fe1491d-1a75-4ef7-c1c3-5375f0472044"
      },
      "execution_count": 15,
      "outputs": [
        {
          "output_type": "execute_result",
          "data": {
            "text/plain": [
              "98"
            ]
          },
          "metadata": {},
          "execution_count": 15
        }
      ]
    },
    {
      "cell_type": "markdown",
      "source": [
        "**lambda for algrebra**\n"
      ],
      "metadata": {
        "id": "fjPkDYCJcIP6"
      }
    },
    {
      "cell_type": "code",
      "source": [
        "#linear equation\n",
        "s = lambda a:a*a\n",
        "print(4)"
      ],
      "metadata": {
        "colab": {
          "base_uri": "https://localhost:8080/"
        },
        "id": "yAkEAWHrbwCL",
        "outputId": "6b039dee-747c-4ddc-b1ff-c9a745474cc7"
      },
      "execution_count": 16,
      "outputs": [
        {
          "output_type": "stream",
          "name": "stdout",
          "text": [
            "4\n"
          ]
        }
      ]
    },
    {
      "cell_type": "code",
      "source": [
        "#linear equation with two variable\n",
        "d= lambda x,y:3*x+4*y\n",
        "d(4,6)"
      ],
      "metadata": {
        "colab": {
          "base_uri": "https://localhost:8080/"
        },
        "id": "NctHWJOOcZ0Y",
        "outputId": "2a62837b-27ca-4fb2-e3a5-f7c347f17f9d"
      },
      "execution_count": 17,
      "outputs": [
        {
          "output_type": "execute_result",
          "data": {
            "text/plain": [
              "36"
            ]
          },
          "metadata": {},
          "execution_count": 17
        }
      ]
    },
    {
      "cell_type": "code",
      "source": [
        "#quadratic equations\n",
        "x = lambda a,b:(a+b)**2\n",
        "x(3,4)"
      ],
      "metadata": {
        "colab": {
          "base_uri": "https://localhost:8080/"
        },
        "id": "-dNWebf9cyuA",
        "outputId": "f372cd4d-3bfc-4bf8-d003-e84c4ab7aa87"
      },
      "execution_count": 18,
      "outputs": [
        {
          "output_type": "execute_result",
          "data": {
            "text/plain": [
              "49"
            ]
          },
          "metadata": {},
          "execution_count": 18
        }
      ]
    }
  ]
}