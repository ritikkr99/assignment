{
  "cells": [
    {
      "cell_type": "markdown",
      "id": "ad3c798a",
      "metadata": {
        "id": "ad3c798a"
      },
      "source": [
        "## Programming Assignment_3\n",
        "----------------"
      ]
    },
    {
      "cell_type": "markdown",
      "id": "fdeb4706",
      "metadata": {
        "id": "fdeb4706"
      },
      "source": [
        "### 1. Write a Python Program to Check if a Number is Positive, Negative or Zero?\n",
        "##### Sol."
      ]
    },
    {
      "cell_type": "code",
      "execution_count": 2,
      "id": "09c3bcc9",
      "metadata": {
        "id": "09c3bcc9",
        "outputId": "d95d16f0-4fa1-4e83-97f4-091e4e1f2b7d"
      },
      "outputs": [
        {
          "name": "stdout",
          "output_type": "stream",
          "text": [
            "-1 is Negative\n"
          ]
        }
      ],
      "source": [
        "num = -1\n",
        "\n",
        "if(num > 0):\n",
        "    print(num, \"is Positive\")\n",
        "elif(num < 0):\n",
        "    print(num, \"is Negative\")\n",
        "else:\n",
        "    print(num, \"is Zero\")"
      ]
    },
    {
      "cell_type": "code",
      "execution_count": 3,
      "id": "e928173c",
      "metadata": {
        "id": "e928173c",
        "outputId": "c3d63a60-56ce-4322-cd01-1a25d43b9219"
      },
      "outputs": [
        {
          "name": "stdout",
          "output_type": "stream",
          "text": [
            "0 is Zero\n"
          ]
        }
      ],
      "source": [
        "num = 0\n",
        "\n",
        "if(num > 0):\n",
        "    print(num, \"is Positive\")\n",
        "elif(num < 0):\n",
        "    print(num, \"is Negative\")\n",
        "else:\n",
        "    print(num, \"is Zero\")"
      ]
    },
    {
      "cell_type": "markdown",
      "id": "086bfded",
      "metadata": {
        "id": "086bfded"
      },
      "source": [
        "### 2. Write a Python Program to Check if a Number is Odd or Even?\n",
        "##### Sol."
      ]
    },
    {
      "cell_type": "code",
      "execution_count": 4,
      "id": "de1841dc",
      "metadata": {
        "id": "de1841dc",
        "outputId": "2e64ffcf-579f-4832-8f6b-d2d4db458929"
      },
      "outputs": [
        {
          "name": "stdout",
          "output_type": "stream",
          "text": [
            "443 is an Odd Number\n"
          ]
        }
      ],
      "source": [
        "num = int(input(\"Enter a number: \"))\n",
        "\n",
        "if(num % 2 == 0):\n",
        "    print(num, \"is a Even Nummber\")\n",
        "else:\n",
        "    print(num, \"is an Odd Number\")"
      ]
    },
    {
      "cell_type": "code",
      "execution_count": 5,
      "id": "d5f31dcd",
      "metadata": {
        "id": "d5f31dcd",
        "outputId": "e3e89959-c123-46e1-cc60-1ccdf7334a0c"
      },
      "outputs": [
        {
          "name": "stdout",
          "output_type": "stream",
          "text": [
            "44 is a Even Nummber\n"
          ]
        }
      ],
      "source": [
        "num = int(input(\"Enter a number: \"))\n",
        "\n",
        "if(num % 2 == 0):\n",
        "    print(num, \"is a Even Nummber\")\n",
        "else:\n",
        "    print(num, \"is an Odd Number\")"
      ]
    },
    {
      "cell_type": "markdown",
      "id": "575e4f94",
      "metadata": {
        "id": "575e4f94"
      },
      "source": [
        "### 3. Write a Python Program to Check Leap Year?\n",
        "##### Sol."
      ]
    },
    {
      "cell_type": "code",
      "execution_count": 7,
      "id": "a4f73839",
      "metadata": {
        "id": "a4f73839",
        "outputId": "91a9885b-f0c6-48ce-ef17-5cf56470306c"
      },
      "outputs": [
        {
          "name": "stdout",
          "output_type": "stream",
          "text": [
            "Leap Year\n"
          ]
        }
      ],
      "source": [
        "year = 2024\n",
        "\n",
        "if(((year % 4 == 0) and (year % 100 != 0)) or (year % 400 == 0)):\n",
        "    print(\"Leap Year\")\n",
        "else:\n",
        "    print(\"Not a Leap Year\")"
      ]
    },
    {
      "cell_type": "markdown",
      "id": "aa83ce63",
      "metadata": {
        "id": "aa83ce63"
      },
      "source": [
        "### 4. Write a Python Program to Check Prime Number?\n",
        "##### Sol."
      ]
    },
    {
      "cell_type": "code",
      "execution_count": 8,
      "id": "b557b47c",
      "metadata": {
        "id": "b557b47c",
        "outputId": "32c2a118-7e2a-4769-a0bb-e1da02260165"
      },
      "outputs": [
        {
          "name": "stdout",
          "output_type": "stream",
          "text": [
            "45 is not prime number\n"
          ]
        }
      ],
      "source": [
        "num = int(input(\"Enter a number: \"))\n",
        "\n",
        "isPrime = True\n",
        "\n",
        "if num <= 1:\n",
        "    print(num, \"is neither prime nor composite\")\n",
        "else:\n",
        "    d = 2\n",
        "    while(d*d <= num):\n",
        "        if(num%d==0):\n",
        "            isPrime = False\n",
        "            break\n",
        "        d = d + 1\n",
        "\n",
        "if(num > 1):\n",
        "    if(isPrime):\n",
        "        print(num, \"is prime number\")\n",
        "    else:\n",
        "        print(num, \"is not prime number\")\n",
        "        "
      ]
    },
    {
      "cell_type": "markdown",
      "id": "b44b54ff",
      "metadata": {
        "id": "b44b54ff"
      },
      "source": [
        "### 5. Write a Python Program to Print all Prime Numbers in an Interval of 1-10000?\n",
        "##### Sol."
      ]
    },
    {
      "cell_type": "code",
      "execution_count": 10,
      "id": "464c1311",
      "metadata": {
        "id": "464c1311",
        "outputId": "54aa056e-6759-43be-856b-ae30ef4d4129"
      },
      "outputs": [
        {
          "name": "stdout",
          "output_type": "stream",
          "text": [
            "1 2 3 4 5 6 7 8 9 10 "
          ]
        }
      ],
      "source": [
        "for i in range(1, 11):\n",
        "    print(i, end = ' ')"
      ]
    },
    {
      "cell_type": "code",
      "execution_count": null,
      "id": "de28a359",
      "metadata": {
        "id": "de28a359"
      },
      "outputs": [],
      "source": []
    }
  ],
  "metadata": {
    "colab": {
      "provenance": []
    },
    "kernelspec": {
      "display_name": "Python 3.10.0 64-bit",
      "language": "python",
      "name": "python3"
    },
    "language_info": {
      "codemirror_mode": {
        "name": "ipython",
        "version": 3
      },
      "file_extension": ".py",
      "mimetype": "text/x-python",
      "name": "python",
      "nbconvert_exporter": "python",
      "pygments_lexer": "ipython3",
      "version": "3.10.0"
    },
    "vscode": {
      "interpreter": {
        "hash": "359f9b2c06205b9a05b97dc4590336e0621c876f6a173ca79c3311f710579e27"
      }
    }
  },
  "nbformat": 4,
  "nbformat_minor": 5
}
