{
  "nbformat": 4,
  "nbformat_minor": 0,
  "metadata": {
    "colab": {
      "provenance": [],
      "authorship_tag": "ABX9TyON3BbnvruIplQxP8gp5zHb",
      "include_colab_link": true
    },
    "kernelspec": {
      "name": "python3",
      "display_name": "Python 3"
    },
    "language_info": {
      "name": "python"
    }
  },
  "cells": [
    {
      "cell_type": "markdown",
      "metadata": {
        "id": "view-in-github",
        "colab_type": "text"
      },
      "source": [
        "<a href=\"https://colab.research.google.com/github/ritikkr99/assignment/blob/main/map_filter_reduce.ipynb\" target=\"_parent\"><img src=\"https://colab.research.google.com/assets/colab-badge.svg\" alt=\"Open In Colab\"/></a>"
      ]
    },
    {
      "cell_type": "markdown",
      "source": [
        "## MAP function"
      ],
      "metadata": {
        "id": "been4xIAefDO"
      }
    },
    {
      "cell_type": "markdown",
      "source": [
        "*  Applies to a given function to all the iterables and return a new list"
      ],
      "metadata": {
        "id": "MKJJQwBAjYRw"
      }
    },
    {
      "cell_type": "code",
      "execution_count": 1,
      "metadata": {
        "colab": {
          "base_uri": "https://localhost:8080/"
        },
        "id": "9DmfH0qseaRZ",
        "outputId": "8fdef036-add4-4f73-9ead-7b13016450e1"
      },
      "outputs": [
        {
          "output_type": "stream",
          "name": "stdout",
          "text": [
            "<map object at 0x7ff372f87760>\n",
            "[1, 4, 9, 16]\n"
          ]
        }
      ],
      "source": [
        "def new(a):\n",
        "  return a*a\n",
        "x = map(new,[1,2,3,4])\n",
        "print(x)\n",
        "print(list(x))"
      ]
    },
    {
      "cell_type": "code",
      "source": [
        "def new(a,b):\n",
        "  return a*b\n",
        "x = map(new,[1,2,3,4],[2,3,4,5])\n",
        "print(x)\n",
        "print(list(x))"
      ],
      "metadata": {
        "colab": {
          "base_uri": "https://localhost:8080/"
        },
        "id": "ECUJk-X4fEB8",
        "outputId": "62b9a733-b12a-43cb-dfe3-07097884e9e5"
      },
      "execution_count": 2,
      "outputs": [
        {
          "output_type": "stream",
          "name": "stdout",
          "text": [
            "<map object at 0x7ff372f879d0>\n",
            "[2, 6, 12, 20]\n"
          ]
        }
      ]
    },
    {
      "cell_type": "code",
      "source": [
        "lst = [1,2,3,4]\n",
        "my_lst=list(map(lambda a:a+3,lst))\n",
        "print(my_lst)"
      ],
      "metadata": {
        "colab": {
          "base_uri": "https://localhost:8080/"
        },
        "id": "zoLcU9D7fbNk",
        "outputId": "997d5791-b727-4218-aae2-ffc8532fec3b"
      },
      "execution_count": 3,
      "outputs": [
        {
          "output_type": "stream",
          "name": "stdout",
          "text": [
            "[4, 5, 6, 7]\n"
          ]
        }
      ]
    },
    {
      "cell_type": "markdown",
      "source": [
        "## filter function"
      ],
      "metadata": {
        "id": "YqVQdV9ogjGL"
      }
    },
    {
      "cell_type": "markdown",
      "source": [
        "*  Use to filter given iterables list,tuple etc. with the help of another function passed as a arguement to list all the elements to be true or false\n",
        "\n",
        "*  filter has two arguements"
      ],
      "metadata": {
        "id": "YTHbBD0KjhjN"
      }
    },
    {
      "cell_type": "code",
      "source": [
        "def new(i):\n",
        "  if i >= 3:\n",
        "    return i\n",
        "j=filter(new,(1,2,3,4,5))\n",
        "print(j)\n",
        "print(list(j))"
      ],
      "metadata": {
        "colab": {
          "base_uri": "https://localhost:8080/"
        },
        "id": "udyBT9-ZgJf1",
        "outputId": "78032a4f-b1a4-4e56-b8d2-83d4dafa28d0"
      },
      "execution_count": 4,
      "outputs": [
        {
          "output_type": "stream",
          "name": "stdout",
          "text": [
            "<filter object at 0x7ff372f87b80>\n",
            "[3, 4, 5]\n"
          ]
        }
      ]
    },
    {
      "cell_type": "code",
      "source": [
        "z = filter(lambda x:(x>=3),[1,2,3,4,5,6])\n",
        "print(list(z))"
      ],
      "metadata": {
        "colab": {
          "base_uri": "https://localhost:8080/"
        },
        "id": "NRR5yWrrhMh7",
        "outputId": "6fa94c50-67c9-477e-fe86-bf228927a2a5"
      },
      "execution_count": 5,
      "outputs": [
        {
          "output_type": "stream",
          "name": "stdout",
          "text": [
            "[3, 4, 5, 6]\n"
          ]
        }
      ]
    },
    {
      "cell_type": "markdown",
      "source": [
        "## Reduce function"
      ],
      "metadata": {
        "id": "oM_8zx7XibOg"
      }
    },
    {
      "cell_type": "markdown",
      "source": [
        "*  Applies some other function to the list of elements that are passed to a parameter to it and finally return a single value"
      ],
      "metadata": {
        "id": "L2vuVFcHkLh6"
      }
    },
    {
      "cell_type": "code",
      "source": [
        "from functools import reduce \n",
        "def a(x,y):\n",
        "  return x+y\n",
        "s = reduce(a,[1,2,3,4])\n",
        "print(s)"
      ],
      "metadata": {
        "colab": {
          "base_uri": "https://localhost:8080/"
        },
        "id": "iDZsnENlhz9G",
        "outputId": "a11101b0-016f-45fd-fd90-6df083767e0d"
      },
      "execution_count": 6,
      "outputs": [
        {
          "output_type": "stream",
          "name": "stdout",
          "text": [
            "10\n"
          ]
        }
      ]
    },
    {
      "cell_type": "code",
      "source": [
        "reduce(lambda x,y:x+y,[1,2,3,4])\n"
      ],
      "metadata": {
        "colab": {
          "base_uri": "https://localhost:8080/"
        },
        "id": "PbdG2Mn5iL3j",
        "outputId": "37a199ad-54a5-46f5-df34-5fbbe46a4ac8"
      },
      "execution_count": 7,
      "outputs": [
        {
          "output_type": "execute_result",
          "data": {
            "text/plain": [
              "10"
            ]
          },
          "metadata": {},
          "execution_count": 7
        }
      ]
    },
    {
      "cell_type": "markdown",
      "source": [
        "## filter within map"
      ],
      "metadata": {
        "id": "Dmamvs2Bkibb"
      }
    },
    {
      "cell_type": "code",
      "source": [
        "c = map(lambda x:x+x,filter(lambda x:x>=3,[2,3,4,5]))\n",
        "print(list(c))"
      ],
      "metadata": {
        "colab": {
          "base_uri": "https://localhost:8080/"
        },
        "id": "405dnem8jGHk",
        "outputId": "1ef8b2da-7b6b-4202-beb5-77c5503454cb"
      },
      "execution_count": 8,
      "outputs": [
        {
          "output_type": "stream",
          "name": "stdout",
          "text": [
            "[6, 8, 10]\n"
          ]
        }
      ]
    },
    {
      "cell_type": "code",
      "source": [
        "d = filter(lambda x:(x>=4),map(lambda x:x+x,[1,2,3,4]))\n",
        "print(list(d))"
      ],
      "metadata": {
        "colab": {
          "base_uri": "https://localhost:8080/"
        },
        "id": "Z8jKsu1tlBJ-",
        "outputId": "5c19ede7-27d2-4ade-eeec-b0bf87c91f19"
      },
      "execution_count": 9,
      "outputs": [
        {
          "output_type": "stream",
          "name": "stdout",
          "text": [
            "[4, 6, 8]\n"
          ]
        }
      ]
    },
    {
      "cell_type": "markdown",
      "source": [
        "## Map() and filter() within reduce()"
      ],
      "metadata": {
        "id": "YRyFAoLxmv8I"
      }
    },
    {
      "cell_type": "code",
      "source": [
        "r = reduce(lambda x,y:x+y,map(lambda x:x+x, filter(lambda x:(x<=4),[1,2,3,4,5,6,7])))\n",
        "print(r)"
      ],
      "metadata": {
        "colab": {
          "base_uri": "https://localhost:8080/"
        },
        "id": "Kzl0mvNlmACe",
        "outputId": "60c36300-cf70-4185-abb9-ab403ccc795f"
      },
      "execution_count": 10,
      "outputs": [
        {
          "output_type": "stream",
          "name": "stdout",
          "text": [
            "20\n"
          ]
        }
      ]
    }
  ]
}