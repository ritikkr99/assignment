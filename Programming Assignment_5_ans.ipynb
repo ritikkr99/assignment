{
 "cells": [
  {
   "cell_type": "markdown",
   "id": "4ac9602a",
   "metadata": {},
   "source": [
    "## Python Basic Programming Assignment - 5\n",
    "--------------\n"
   ]
  },
  {
   "cell_type": "markdown",
   "id": "fdaeee06",
   "metadata": {},
   "source": [
    "### 1. Write a Python Program to Find LCM?"
   ]
  },
  {
   "cell_type": "code",
   "execution_count": 1,
   "id": "2bbfde05",
   "metadata": {},
   "outputs": [],
   "source": [
    "def lcm(a,b):\n",
    "    '''\n",
    "    Function which return the LCM of two number.\n",
    "    '''\n",
    "    high = a if a > b else b\n",
    "    \n",
    "    while True:\n",
    "        if (high%a==0) and (high%b==0):\n",
    "            break\n",
    "        else:\n",
    "            high += 1\n",
    "            \n",
    "    return high"
   ]
  },
  {
   "cell_type": "code",
   "execution_count": 2,
   "id": "b1491e95",
   "metadata": {},
   "outputs": [
    {
     "data": {
      "text/plain": [
       "126"
      ]
     },
     "execution_count": 2,
     "metadata": {},
     "output_type": "execute_result"
    }
   ],
   "source": [
    "a = 14\n",
    "b = 18\n",
    "\n",
    "lcm(a, b)"
   ]
  },
  {
   "cell_type": "markdown",
   "id": "2f459cdf",
   "metadata": {},
   "source": [
    "---------------------\n",
    "### 2. Write a Python Program to Find HCF?"
   ]
  },
  {
   "cell_type": "code",
   "execution_count": 5,
   "id": "ca13cf0c",
   "metadata": {},
   "outputs": [],
   "source": [
    "def hcf(a, b):\n",
    "    \n",
    "    low = a if a < b else b\n",
    "    \n",
    "    for i in range(1, low+1):\n",
    "        if (a%i==0) and (b%i==0):\n",
    "            hcf = i\n",
    "            \n",
    "    return hcf"
   ]
  },
  {
   "cell_type": "code",
   "execution_count": 6,
   "id": "3e41d1af",
   "metadata": {},
   "outputs": [
    {
     "data": {
      "text/plain": [
       "5"
      ]
     },
     "execution_count": 6,
     "metadata": {},
     "output_type": "execute_result"
    }
   ],
   "source": [
    "a = 20\n",
    "b = 25\n",
    "\n",
    "hcf(a, b)"
   ]
  },
  {
   "cell_type": "code",
   "execution_count": 7,
   "id": "642b8fdc",
   "metadata": {},
   "outputs": [
    {
     "data": {
      "text/plain": [
       "6"
      ]
     },
     "execution_count": 7,
     "metadata": {},
     "output_type": "execute_result"
    }
   ],
   "source": [
    "a = 66\n",
    "b = 24\n",
    "\n",
    "hcf(a, b)"
   ]
  },
  {
   "cell_type": "markdown",
   "id": "d2c29370",
   "metadata": {},
   "source": [
    "---------------\n",
    "### 3. Write a Python Program to Convert Decimal to Binary, Octal and Hexadecimal?"
   ]
  },
  {
   "cell_type": "code",
   "execution_count": 8,
   "id": "f9fac93a",
   "metadata": {},
   "outputs": [],
   "source": [
    "def conversion(num):\n",
    "    print(\"Binary:      \", bin(num))\n",
    "    print(\"Octal:       \", oct(num))\n",
    "    print(\"Hexadecimal: \", hex(num))"
   ]
  },
  {
   "cell_type": "code",
   "execution_count": 9,
   "id": "f3dd6f8d",
   "metadata": {},
   "outputs": [
    {
     "name": "stdout",
     "output_type": "stream",
     "text": [
      "Binary:       0b1010\n",
      "Octal:        0o12\n",
      "Hexadecimal:  0xa\n"
     ]
    }
   ],
   "source": [
    "conversion(10)"
   ]
  },
  {
   "cell_type": "code",
   "execution_count": 10,
   "id": "724c2e07",
   "metadata": {},
   "outputs": [
    {
     "name": "stdout",
     "output_type": "stream",
     "text": [
      "Binary:       0b1000101011\n",
      "Octal:        0o1053\n",
      "Hexadecimal:  0x22b\n"
     ]
    }
   ],
   "source": [
    "conversion(555)"
   ]
  },
  {
   "cell_type": "markdown",
   "id": "2a16c5fd",
   "metadata": {},
   "source": [
    "---------------------\n",
    "### 4. Write a Python Program To Find ASCII value of a character?"
   ]
  },
  {
   "cell_type": "code",
   "execution_count": 11,
   "id": "c5164be3",
   "metadata": {},
   "outputs": [
    {
     "name": "stdout",
     "output_type": "stream",
     "text": [
      "ASCII value of g is 103\n"
     ]
    }
   ],
   "source": [
    "try:\n",
    "    char = input(\"Enter a character: \")\n",
    "    ASCII = ord(char)\n",
    "    print(\"ASCII value of {} is {}\".format(char, ASCII))\n",
    "except Exception as e:\n",
    "    print(e)"
   ]
  },
  {
   "cell_type": "markdown",
   "id": "226778a0",
   "metadata": {},
   "source": [
    "----------------\n",
    "### 5. Write a Python Program to Make a Simple Calculator with 4 basic mathematical operations?"
   ]
  },
  {
   "cell_type": "code",
   "execution_count": 14,
   "id": "4d0c1a4d",
   "metadata": {},
   "outputs": [
    {
     "name": "stdout",
     "output_type": "stream",
     "text": [
      "\n",
      "For addition:       +\n",
      "For subtraction:    -\n",
      "For multiplicaton:  *\n",
      "For division:       /\n",
      "For Exit:            X\n",
      "\n",
      "Result:  13\n",
      "invalid literal for int() with base 10: ''\n"
     ]
    }
   ],
   "source": [
    "try:\n",
    "    \n",
    "    \n",
    "    while True:\n",
    "        num1 = int(input(\"Enter first number: \"))\n",
    "        num2 = int(input(\"Enter second number: \"))\n",
    "        \n",
    "        print(\"\\nFor addition:       +\")\n",
    "        print(\"For subtraction:    -\")\n",
    "        print(\"For multiplicaton:  *\")\n",
    "        print(\"For division:       /\")\n",
    "        print(\"For Exit:            X\")\n",
    "        \n",
    "        ch = input(\"\\nEnter the choice for mathematical operations: \")\n",
    "        \n",
    "        \n",
    "        if ch == '+':\n",
    "            output = num1 + num2\n",
    "        elif ch == '-':\n",
    "            output = num1 - num2\n",
    "        elif ch == '*':\n",
    "            output = num1 * num2\n",
    "        elif ch == '/':\n",
    "            output = num1 / num2\n",
    "        \n",
    "        if ch == 'X' or ch == 'x':\n",
    "            break\n",
    "            \n",
    "        print(\"\\nResult: \", output)\n",
    "        \n",
    "        \n",
    "            \n",
    "except Exception as e:\n",
    "    print(e)"
   ]
  },
  {
   "cell_type": "code",
   "execution_count": null,
   "id": "fa01d572",
   "metadata": {},
   "outputs": [],
   "source": []
  }
 ],
 "metadata": {
  "kernelspec": {
   "display_name": "Python 3.10.5 64-bit",
   "language": "python",
   "name": "python3"
  },
  "language_info": {
   "codemirror_mode": {
    "name": "ipython",
    "version": 3
   },
   "file_extension": ".py",
   "mimetype": "text/x-python",
   "name": "python",
   "nbconvert_exporter": "python",
   "pygments_lexer": "ipython3",
   "version": "3.10.5"
  },
  "vscode": {
   "interpreter": {
    "hash": "359f9b2c06205b9a05b97dc4590336e0621c876f6a173ca79c3311f710579e27"
   }
  }
 },
 "nbformat": 4,
 "nbformat_minor": 5
}
