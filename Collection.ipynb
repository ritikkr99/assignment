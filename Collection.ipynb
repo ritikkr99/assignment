{
  "nbformat": 4,
  "nbformat_minor": 0,
  "metadata": {
    "colab": {
      "provenance": [],
      "authorship_tag": "ABX9TyNSyKKTB7+xF1JLAJv3PTw6",
      "include_colab_link": true
    },
    "kernelspec": {
      "name": "python3",
      "display_name": "Python 3"
    },
    "language_info": {
      "name": "python"
    }
  },
  "cells": [
    {
      "cell_type": "markdown",
      "metadata": {
        "id": "view-in-github",
        "colab_type": "text"
      },
      "source": [
        "<a href=\"https://colab.research.google.com/github/ritikkr99/assignment/blob/main/Collection.ipynb\" target=\"_parent\"><img src=\"https://colab.research.google.com/assets/colab-badge.svg\" alt=\"Open In Colab\"/></a>"
      ]
    },
    {
      "cell_type": "code",
      "source": [
        "from collections import namedtuple"
      ],
      "metadata": {
        "id": "Hk4BMcAie_QO"
      },
      "execution_count": 1,
      "outputs": []
    },
    {
      "cell_type": "code",
      "execution_count": 2,
      "metadata": {
        "id": "YgjhAk7CequE"
      },
      "outputs": [],
      "source": [
        "#namedtuple()\n",
        "a = namedtuple('courses','name,technology')\n",
        "s = a('data science','python')"
      ]
    },
    {
      "cell_type": "code",
      "source": [
        "print(s)"
      ],
      "metadata": {
        "colab": {
          "base_uri": "https://localhost:8080/"
        },
        "id": "sTl0YYdRfTX9",
        "outputId": "e3e52779-b55c-4fd8-d619-a509ed619a6f"
      },
      "execution_count": 3,
      "outputs": [
        {
          "output_type": "stream",
          "name": "stdout",
          "text": [
            "courses(name='data science', technology='python')\n"
          ]
        }
      ]
    },
    {
      "cell_type": "code",
      "source": [
        "c = a._make(['artifical intelligence','python'])\n",
        "print(c)"
      ],
      "metadata": {
        "colab": {
          "base_uri": "https://localhost:8080/"
        },
        "id": "gp1kfR8HfWRM",
        "outputId": "6decb440-1d0b-44b6-d701-4d3180a48d57"
      },
      "execution_count": 4,
      "outputs": [
        {
          "output_type": "stream",
          "name": "stdout",
          "text": [
            "courses(name='artifical intelligence', technology='python')\n"
          ]
        }
      ]
    },
    {
      "cell_type": "code",
      "source": [
        "#deque optimised list to perform insertion and deletion easily\n",
        "from collections import deque\n"
      ],
      "metadata": {
        "id": "LCmirJS1zSMq"
      },
      "execution_count": 5,
      "outputs": []
    },
    {
      "cell_type": "code",
      "source": [
        "var = ['r','i','t','i','k']\n",
        "var1 = deque(var)\n",
        "print(var1)"
      ],
      "metadata": {
        "colab": {
          "base_uri": "https://localhost:8080/"
        },
        "id": "uWlv6ksDzjWV",
        "outputId": "74a6ccec-0255-4fe7-d9ea-1617cb053bde"
      },
      "execution_count": 6,
      "outputs": [
        {
          "output_type": "stream",
          "name": "stdout",
          "text": [
            "deque(['r', 'i', 't', 'i', 'k'])\n"
          ]
        }
      ]
    },
    {
      "cell_type": "code",
      "source": [
        "var1.appendleft('ritik')"
      ],
      "metadata": {
        "id": "_qE1ut_N0YqI"
      },
      "execution_count": 7,
      "outputs": []
    },
    {
      "cell_type": "code",
      "source": [
        "var1\n"
      ],
      "metadata": {
        "colab": {
          "base_uri": "https://localhost:8080/"
        },
        "id": "8NNs_XEv0cfK",
        "outputId": "c353b21d-0017-48b6-8a79-ffec4ac595b3"
      },
      "execution_count": 8,
      "outputs": [
        {
          "output_type": "execute_result",
          "data": {
            "text/plain": [
              "deque(['ritik', 'r', 'i', 't', 'i', 'k'])"
            ]
          },
          "metadata": {},
          "execution_count": 8
        }
      ]
    },
    {
      "cell_type": "code",
      "source": [
        "var1.popleft()"
      ],
      "metadata": {
        "colab": {
          "base_uri": "https://localhost:8080/",
          "height": 35
        },
        "id": "0sFrsc2r0eOU",
        "outputId": "10135a89-9515-4292-c8ec-244bb61d0841"
      },
      "execution_count": 9,
      "outputs": [
        {
          "output_type": "execute_result",
          "data": {
            "text/plain": [
              "'ritik'"
            ],
            "application/vnd.google.colaboratory.intrinsic+json": {
              "type": "string"
            }
          },
          "metadata": {},
          "execution_count": 9
        }
      ]
    },
    {
      "cell_type": "code",
      "source": [
        "var1\n"
      ],
      "metadata": {
        "colab": {
          "base_uri": "https://localhost:8080/"
        },
        "id": "LaYkZzzvRGyR",
        "outputId": "2ef4c761-bb08-460b-9c77-8280fd1b74a6"
      },
      "execution_count": 10,
      "outputs": [
        {
          "output_type": "execute_result",
          "data": {
            "text/plain": [
              "deque(['r', 'i', 't', 'i', 'k'])"
            ]
          },
          "metadata": {},
          "execution_count": 10
        }
      ]
    },
    {
      "cell_type": "code",
      "source": [
        "#chainmap is a dictionary like class for creating a single view of multimappings.\n",
        "from collections import ChainMap"
      ],
      "metadata": {
        "id": "rXpG4K7WRQbK"
      },
      "execution_count": 11,
      "outputs": []
    },
    {
      "cell_type": "code",
      "source": [
        "a1={1:'ritik',2:'kumar'}\n",
        "b1={3:'manik',4:'kumar'}\n",
        "c1=ChainMap(a1,b1)\n",
        "print(c1)"
      ],
      "metadata": {
        "colab": {
          "base_uri": "https://localhost:8080/"
        },
        "id": "cL0GpU-6TFxl",
        "outputId": "d25d9531-5fe7-4654-898b-0f2ae9edfb75"
      },
      "execution_count": 12,
      "outputs": [
        {
          "output_type": "stream",
          "name": "stdout",
          "text": [
            "ChainMap({1: 'ritik', 2: 'kumar'}, {3: 'manik', 4: 'kumar'})\n"
          ]
        }
      ]
    },
    {
      "cell_type": "code",
      "source": [
        "#Counter is a dictionary subclass for counting hashable objects\n",
        "from collections import Counter"
      ],
      "metadata": {
        "id": "5mnJqkF3UOUw"
      },
      "execution_count": 13,
      "outputs": []
    },
    {
      "cell_type": "code",
      "source": [
        "a = [1,2,2,3,3,4,4,4,4,45,5,5,7,7,8]\n",
        "c= Counter(a)\n",
        "print(c)"
      ],
      "metadata": {
        "colab": {
          "base_uri": "https://localhost:8080/"
        },
        "id": "xL5IAbmhUrAm",
        "outputId": "4e7009a8-b11f-4222-9dbc-863365c70412"
      },
      "execution_count": 14,
      "outputs": [
        {
          "output_type": "stream",
          "name": "stdout",
          "text": [
            "Counter({4: 4, 2: 2, 3: 2, 5: 2, 7: 2, 1: 1, 45: 1, 8: 1})\n"
          ]
        }
      ]
    },
    {
      "cell_type": "code",
      "source": [
        "print(list(c.elements()))"
      ],
      "metadata": {
        "id": "Rpxx2wbzU6-Q",
        "colab": {
          "base_uri": "https://localhost:8080/"
        },
        "outputId": "70e5bc6c-cb3e-4bc7-f70f-6c77c8397711"
      },
      "execution_count": 15,
      "outputs": [
        {
          "output_type": "stream",
          "name": "stdout",
          "text": [
            "[1, 2, 2, 3, 3, 4, 4, 4, 4, 45, 5, 5, 7, 7, 8]\n"
          ]
        }
      ]
    },
    {
      "cell_type": "code",
      "source": [
        "print(c.most_common())\n",
        "sub = {2:2,4:2}\n",
        "print(c.subtract(sub))\n",
        "print(c.most_common())"
      ],
      "metadata": {
        "colab": {
          "base_uri": "https://localhost:8080/"
        },
        "id": "wxFDL1Akq9sk",
        "outputId": "03993618-bf79-4cee-9897-2f48b210c04b"
      },
      "execution_count": 16,
      "outputs": [
        {
          "output_type": "stream",
          "name": "stdout",
          "text": [
            "[(4, 4), (2, 2), (3, 2), (5, 2), (7, 2), (1, 1), (45, 1), (8, 1)]\n",
            "None\n",
            "[(3, 2), (4, 2), (5, 2), (7, 2), (1, 1), (45, 1), (8, 1), (2, 0)]\n"
          ]
        }
      ]
    },
    {
      "cell_type": "code",
      "source": [
        "# #OrderedDict\n",
        "# OrderedDict is dictionary subclass which remembers the order in which the enteries were done \n",
        "from collections import OrderedDict"
      ],
      "metadata": {
        "id": "rtZeTppqr3Ld"
      },
      "execution_count": 17,
      "outputs": []
    },
    {
      "cell_type": "code",
      "source": [
        "d = OrderedDict()\n",
        "d[1]='r'\n",
        "d[2]='i'\n",
        "d[3]='t'\n",
        "d[4]='i'\n",
        "d[5]='k'\n",
        "print(d)"
      ],
      "metadata": {
        "colab": {
          "base_uri": "https://localhost:8080/"
        },
        "id": "mzDwQn_cskvd",
        "outputId": "a0860869-7acd-4dcd-ff2a-21fda0e4382a"
      },
      "execution_count": 20,
      "outputs": [
        {
          "output_type": "stream",
          "name": "stdout",
          "text": [
            "OrderedDict([(1, 'r'), (2, 'i'), (3, 't'), (4, 'i'), (5, 'k')])\n"
          ]
        }
      ]
    },
    {
      "cell_type": "code",
      "source": [
        "print(d.keys())"
      ],
      "metadata": {
        "colab": {
          "base_uri": "https://localhost:8080/"
        },
        "id": "h-LUEfdaug6s",
        "outputId": "40b9226e-c215-4d76-9383-8c9e57edbf60"
      },
      "execution_count": 21,
      "outputs": [
        {
          "output_type": "stream",
          "name": "stdout",
          "text": [
            "odict_keys([1, 2, 3, 4, 5])\n"
          ]
        }
      ]
    },
    {
      "cell_type": "code",
      "source": [
        "print(d.items())"
      ],
      "metadata": {
        "colab": {
          "base_uri": "https://localhost:8080/"
        },
        "id": "HwP_iDx5utDE",
        "outputId": "91a42dbd-f518-44cf-8cb1-032f141047b6"
      },
      "execution_count": 22,
      "outputs": [
        {
          "output_type": "stream",
          "name": "stdout",
          "text": [
            "odict_items([(1, 'r'), (2, 'i'), (3, 't'), (4, 'i'), (5, 'k')])\n"
          ]
        }
      ]
    },
    {
      "cell_type": "code",
      "source": [
        "# defaultdict\n",
        "# defaultdict is a dictionary which call a factory function to supply missing values\n",
        "from collections import defaultdict"
      ],
      "metadata": {
        "id": "WoIIc-dsu0Ki"
      },
      "execution_count": 23,
      "outputs": []
    },
    {
      "cell_type": "code",
      "source": [
        "di = defaultdict(int)\n",
        "di[1]='ritik'\n",
        "di[2]='kumar'\n",
        "\n"
      ],
      "metadata": {
        "id": "AZcasRwy39K-"
      },
      "execution_count": 26,
      "outputs": []
    },
    {
      "cell_type": "code",
      "source": [
        "print(di)"
      ],
      "metadata": {
        "colab": {
          "base_uri": "https://localhost:8080/"
        },
        "id": "nVQe91L44N_4",
        "outputId": "5e5316ff-7da6-44f0-b035-69f38e496fb4"
      },
      "execution_count": 27,
      "outputs": [
        {
          "output_type": "stream",
          "name": "stdout",
          "text": [
            "defaultdict(<class 'int'>, {1: 'ritik', 2: 'kumar'})\n"
          ]
        }
      ]
    },
    {
      "cell_type": "code",
      "source": [
        "#UserDict, UserList, UserString\n",
        "#UserDict is a wrapper around dictionary object for easier dictionary sub-classing.\n",
        "#UserList is a wrapper around list object for easier list sub-classing,\n",
        "#UserString is a wrapper around String for easier String sub-classing.\n"
      ],
      "metadata": {
        "id": "SAlo-nsf4Peh"
      },
      "execution_count": null,
      "outputs": []
    }
  ]
}