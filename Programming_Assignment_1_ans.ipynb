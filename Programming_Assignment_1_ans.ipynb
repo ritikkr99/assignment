{
  "cells": [
    {
      "cell_type": "markdown",
      "id": "637b47a5",
      "metadata": {
        "id": "637b47a5"
      },
      "source": [
        "## Programming Assignment_1\n",
        "-------------"
      ]
    },
    {
      "cell_type": "markdown",
      "id": "0c647dbe",
      "metadata": {
        "id": "0c647dbe"
      },
      "source": [
        "### 1. Write a Python program to print \"Hello Python\"?\n",
        "##### Sol:"
      ]
    },
    {
      "cell_type": "code",
      "execution_count": 1,
      "id": "732cbadd",
      "metadata": {
        "id": "732cbadd",
        "outputId": "b080de4d-1d5d-4603-d8f9-924a0112ee2b"
      },
      "outputs": [
        {
          "name": "stdout",
          "output_type": "stream",
          "text": [
            "Hello Python\n"
          ]
        }
      ],
      "source": [
        "print(\"Hello Python\")"
      ]
    },
    {
      "cell_type": "markdown",
      "id": "fc18a6cd",
      "metadata": {
        "id": "fc18a6cd"
      },
      "source": [
        "### 2. Write a Python program to do arithmetical operations addition and division.?\n",
        "##### Sol:"
      ]
    },
    {
      "cell_type": "code",
      "execution_count": 1,
      "id": "d5e81491",
      "metadata": {
        "id": "d5e81491",
        "outputId": "998f2278-c773-49f6-aeeb-5aab5fb77229"
      },
      "outputs": [
        {
          "name": "stdout",
          "output_type": "stream",
          "text": [
            "14\n",
            "6.0\n"
          ]
        }
      ],
      "source": [
        "a = 12\n",
        "b = 2\n",
        "\n",
        "## Addition\n",
        "add = a + b\n",
        "## Division\n",
        "div = a/b\n",
        "\n",
        "print(add)\n",
        "print(div)"
      ]
    },
    {
      "cell_type": "markdown",
      "id": "af6e2429",
      "metadata": {
        "id": "af6e2429"
      },
      "source": [
        "### 3. Write a Python program to find the area of a triangle?\n",
        "##### Sol:"
      ]
    },
    {
      "cell_type": "code",
      "execution_count": 2,
      "id": "d5d93846",
      "metadata": {
        "id": "d5d93846",
        "outputId": "965669e1-2f2a-4021-826c-3e9536c4959a"
      },
      "outputs": [
        {
          "name": "stdout",
          "output_type": "stream",
          "text": [
            "Area of triangle: 125.0\n"
          ]
        }
      ],
      "source": [
        "height = 10\n",
        "base = 25\n",
        "\n",
        "area = height*base/2\n",
        "\n",
        "print(\"Area of triangle:\", area)"
      ]
    },
    {
      "cell_type": "markdown",
      "id": "b8140061",
      "metadata": {
        "id": "b8140061"
      },
      "source": [
        "### 4. Write a Python program to swap two variables?\n",
        "##### Sol:"
      ]
    },
    {
      "cell_type": "code",
      "execution_count": 3,
      "id": "182608ba",
      "metadata": {
        "id": "182608ba",
        "outputId": "badf5485-121b-447d-a21a-c7d7103e9b09"
      },
      "outputs": [
        {
          "name": "stdout",
          "output_type": "stream",
          "text": [
            "Before swap:\n",
            "var1 = 123 and var2 = 120\n",
            "\n",
            "After swap:\n",
            "var1 = 120 and var2 = 123\n"
          ]
        }
      ],
      "source": [
        "var1 = 123\n",
        "var2 = 120\n",
        "\n",
        "print('Before swap:\\nvar1 = {} and var2 = {}'.format(var1, var2))\n",
        "\n",
        "temp = var1\n",
        "var1 = var2\n",
        "var2 = temp\n",
        "print('\\nAfter swap:\\nvar1 = {} and var2 = {}'.format(var1, var2))"
      ]
    },
    {
      "cell_type": "markdown",
      "id": "3f8054c1",
      "metadata": {
        "id": "3f8054c1"
      },
      "source": [
        "### 5. Write a Python program to generate a random number?\n",
        "##### Sol:"
      ]
    },
    {
      "cell_type": "code",
      "execution_count": 4,
      "id": "f1e76df9",
      "metadata": {
        "id": "f1e76df9",
        "outputId": "d8009940-792c-4264-8076-35d7f1c2a375"
      },
      "outputs": [
        {
          "name": "stdout",
          "output_type": "stream",
          "text": [
            "0.8183958356210527\n",
            "800\n"
          ]
        }
      ],
      "source": [
        "import random\n",
        "\n",
        "print(random.random())\n",
        "print(random.randint(1, 1000))"
      ]
    },
    {
      "cell_type": "code",
      "execution_count": null,
      "id": "3ab18c00",
      "metadata": {
        "id": "3ab18c00"
      },
      "outputs": [],
      "source": []
    }
  ],
  "metadata": {
    "colab": {
      "provenance": []
    },
    "kernelspec": {
      "display_name": "Python 3.10.0 64-bit",
      "language": "python",
      "name": "python3"
    },
    "language_info": {
      "codemirror_mode": {
        "name": "ipython",
        "version": 3
      },
      "file_extension": ".py",
      "mimetype": "text/x-python",
      "name": "python",
      "nbconvert_exporter": "python",
      "pygments_lexer": "ipython3",
      "version": "3.10.5"
    },
    "vscode": {
      "interpreter": {
        "hash": "359f9b2c06205b9a05b97dc4590336e0621c876f6a173ca79c3311f710579e27"
      }
    }
  },
  "nbformat": 4,
  "nbformat_minor": 5
}
