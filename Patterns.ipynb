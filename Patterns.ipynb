{
  "nbformat": 4,
  "nbformat_minor": 0,
  "metadata": {
    "colab": {
      "provenance": [],
      "authorship_tag": "ABX9TyNtkCF02ypcM9XzroytA0iG",
      "include_colab_link": true
    },
    "kernelspec": {
      "name": "python3",
      "display_name": "Python 3"
    },
    "language_info": {
      "name": "python"
    }
  },
  "cells": [
    {
      "cell_type": "markdown",
      "metadata": {
        "id": "view-in-github",
        "colab_type": "text"
      },
      "source": [
        "<a href=\"https://colab.research.google.com/github/ritikkr99/assignment/blob/main/Patterns.ipynb\" target=\"_parent\"><img src=\"https://colab.research.google.com/assets/colab-badge.svg\" alt=\"Open In Colab\"/></a>"
      ]
    },
    {
      "cell_type": "markdown",
      "source": [
        "**Hash table or hashmap is a type of data struture that maps keys to its value pairs**"
      ],
      "metadata": {
        "id": "HXL4b45HSHV0"
      }
    },
    {
      "cell_type": "code",
      "execution_count": 1,
      "metadata": {
        "colab": {
          "base_uri": "https://localhost:8080/"
        },
        "id": "zJDo3rtVTTOT",
        "outputId": "47ec212c-deb3-4f87-ec8c-dca6d25c8614"
      },
      "outputs": [
        {
          "output_type": "stream",
          "name": "stdout",
          "text": [
            "{}\n"
          ]
        },
        {
          "output_type": "execute_result",
          "data": {
            "text/plain": [
              "dict"
            ]
          },
          "metadata": {},
          "execution_count": 1
        }
      ],
      "source": [
        "new_dict = {}\n",
        "print(new_dict)\n",
        "type(new_dict)"
      ]
    },
    {
      "cell_type": "code",
      "source": [
        "new_dict1=dict(Ritik='01',Kumar='02')\n",
        "print(new_dict1)"
      ],
      "metadata": {
        "colab": {
          "base_uri": "https://localhost:8080/"
        },
        "id": "DA3TT8DoSxos",
        "outputId": "eef04353-775e-4e10-e166-57a3750ee9b2"
      },
      "execution_count": 2,
      "outputs": [
        {
          "output_type": "stream",
          "name": "stdout",
          "text": [
            "{'Ritik': '01', 'Kumar': '02'}\n"
          ]
        }
      ]
    },
    {
      "cell_type": "markdown",
      "source": [
        "Nested dictionary are those that lies within the dictionary"
      ],
      "metadata": {
        "id": "AncQOmKHTOor"
      }
    },
    {
      "cell_type": "code",
      "source": [
        "emp_details={'employee_ID':{'01':'Ritik','02':'Alok'},'employee_salary':{'01':'10000','02':'120000'}}\n",
        "print(emp_details)"
      ],
      "metadata": {
        "colab": {
          "base_uri": "https://localhost:8080/"
        },
        "id": "HqfVDVvzTIKU",
        "outputId": "d2d99ce4-8d77-4fff-c1b5-b3f88a48c82c"
      },
      "execution_count": 3,
      "outputs": [
        {
          "output_type": "stream",
          "name": "stdout",
          "text": [
            "{'employee_ID': {'01': 'Ritik', '02': 'Alok'}, 'employee_salary': {'01': '10000', '02': '120000'}}\n"
          ]
        }
      ]
    },
    {
      "cell_type": "code",
      "source": [
        "type(emp_details)"
      ],
      "metadata": {
        "colab": {
          "base_uri": "https://localhost:8080/"
        },
        "id": "ckNN9jtgT-oN",
        "outputId": "7fc96723-79d7-4729-abad-968eda783bcb"
      },
      "execution_count": 4,
      "outputs": [
        {
          "output_type": "execute_result",
          "data": {
            "text/plain": [
              "dict"
            ]
          },
          "metadata": {},
          "execution_count": 4
        }
      ]
    },
    {
      "cell_type": "code",
      "source": [
        "#pyramid\n",
        "def pattern(n):\n",
        "  k = 2*n-2\n",
        "  for i in range(0,n):\n",
        "    for j in range(0,k):\n",
        "      print(end=' ')\n",
        "    k = k-1\n",
        "    for j in range(0,i+1):\n",
        "      print('*',end=' ')\n",
        "    print(\"\\r\")  \n",
        "    \n",
        "\n",
        "pattern(5)"
      ],
      "metadata": {
        "id": "VvQHQ4bgUG4r",
        "colab": {
          "base_uri": "https://localhost:8080/"
        },
        "outputId": "24d72809-94f5-47a0-ba77-954155d95fac"
      },
      "execution_count": 5,
      "outputs": [
        {
          "output_type": "stream",
          "name": "stdout",
          "text": [
            "        * \r\n",
            "       * * \r\n",
            "      * * * \r\n",
            "     * * * * \r\n",
            "    * * * * * \r\n"
          ]
        }
      ]
    },
    {
      "cell_type": "code",
      "source": [
        "def pattern(n):\n",
        "  k =2*n-2\n",
        "  for i in range(n,-1,-1):\n",
        "    for j in range(k,0,-1):\n",
        "      print(end=' ')\n",
        "    k=k+1\n",
        "    for j in range(i+1):\n",
        "      print('*',end=' ')\n",
        "    print('\\r')\n",
        "\n",
        "pattern(8)"
      ],
      "metadata": {
        "colab": {
          "base_uri": "https://localhost:8080/"
        },
        "id": "K_xPzTg8NxmE",
        "outputId": "f89c7f5c-ad42-491a-cf38-8419b85e575d"
      },
      "execution_count": 51,
      "outputs": [
        {
          "output_type": "stream",
          "name": "stdout",
          "text": [
            "              * * * * * * * * * \r\n",
            "               * * * * * * * * \r\n",
            "                * * * * * * * \r\n",
            "                 * * * * * * \r\n",
            "                  * * * * * \r\n",
            "                   * * * * \r\n",
            "                    * * * \r\n",
            "                     * * \r\n",
            "                      * \r\n"
          ]
        }
      ]
    },
    {
      "cell_type": "code",
      "source": [
        "#right angled triangle\n",
        "def pattern(n):\n",
        "  for i in range(0,n):\n",
        "    for j in range(0,i+1):\n",
        "      print('*',end=\" \")\n",
        "    print('\\r')\n",
        "    \n",
        "pattern(5)"
      ],
      "metadata": {
        "colab": {
          "base_uri": "https://localhost:8080/"
        },
        "id": "-xiCRNoajuMd",
        "outputId": "682bd291-3ab0-4bc3-e1c5-464ad0af97cc"
      },
      "execution_count": 7,
      "outputs": [
        {
          "output_type": "stream",
          "name": "stdout",
          "text": [
            "* \r\n",
            "* * \r\n",
            "* * * \r\n",
            "* * * * \r\n",
            "* * * * * \r\n"
          ]
        }
      ]
    },
    {
      "cell_type": "code",
      "source": [
        "#hollow box\n",
        "def pattern(n):\n",
        "  for i in range(0,n):\n",
        "    for j in range(0,n):\n",
        "      if i==0 or i==6 or j==0 or j==6:\n",
        "        print('*',end=' ')\n",
        "      else:\n",
        "        print(\" \",end=' ')\n",
        "    print('\\r')\n",
        "\n",
        "pattern(7)"
      ],
      "metadata": {
        "colab": {
          "base_uri": "https://localhost:8080/"
        },
        "id": "5lAMxl-6KtFL",
        "outputId": "f4c5eeac-7625-47d3-cde9-4bc7ffc8416e"
      },
      "execution_count": 84,
      "outputs": [
        {
          "output_type": "stream",
          "name": "stdout",
          "text": [
            "* * * * * * * \r\n",
            "*           * \r\n",
            "*           * \r\n",
            "*           * \r\n",
            "*           * \r\n",
            "*           * \r\n",
            "* * * * * * * \r\n"
          ]
        }
      ]
    },
    {
      "cell_type": "code",
      "source": [
        "#simple sqaure\n",
        "def pattern(n):\n",
        "  for i in range(n):\n",
        "    for j in range(n):\n",
        "      print('*',end=' ')\n",
        "    print('\\r')\n",
        "\n",
        "pattern(5)"
      ],
      "metadata": {
        "colab": {
          "base_uri": "https://localhost:8080/"
        },
        "id": "WVmptYoeL684",
        "outputId": "dbb7a377-f1ee-4e31-af71-9d60bbec4bcf"
      },
      "execution_count": 81,
      "outputs": [
        {
          "output_type": "stream",
          "name": "stdout",
          "text": [
            "* * * * * \r\n",
            "* * * * * \r\n",
            "* * * * * \r\n",
            "* * * * * \r\n",
            "* * * * * \r\n"
          ]
        }
      ]
    },
    {
      "cell_type": "code",
      "source": [
        "#right angled triangle-2\n",
        "def pattern(n):\n",
        "  k=2*n-2\n",
        "  for i in range(n):\n",
        "    for j in range(k):\n",
        "      print(end=' ')\n",
        "    k=k-2\n",
        "    for j in range(i+1):\n",
        "      print('*',end=' ')\n",
        "    print('\\r')\n",
        "\n",
        "pattern(5)\n",
        "      "
      ],
      "metadata": {
        "colab": {
          "base_uri": "https://localhost:8080/"
        },
        "id": "isMGKHjJMyl3",
        "outputId": "74485053-215d-488a-d253-cd66b4023eea"
      },
      "execution_count": 70,
      "outputs": [
        {
          "output_type": "stream",
          "name": "stdout",
          "text": [
            "        * \r\n",
            "      * * \r\n",
            "    * * * \r\n",
            "  * * * * \r\n",
            "* * * * * \r\n"
          ]
        }
      ]
    },
    {
      "cell_type": "code",
      "source": [
        "# right face triangle\n",
        "def pattern(n):\n",
        "  for i in range(0,n):\n",
        "    for j in range(0,i):\n",
        "      print('* ',end=' ')\n",
        "    print('\\r')\n",
        "\n",
        "  for i in range(n,-1,-1):\n",
        "    for j in range(0,i):\n",
        "      print('* ',end=' ')\n",
        "    print('\\r')\n",
        "\n",
        "pattern(7)\n",
        "    "
      ],
      "metadata": {
        "colab": {
          "base_uri": "https://localhost:8080/"
        },
        "id": "UfPP0-UcqFxV",
        "outputId": "8049338a-4fc9-47d6-a580-ac92b8473410"
      },
      "execution_count": 11,
      "outputs": [
        {
          "output_type": "stream",
          "name": "stdout",
          "text": [
            "\n",
            "*  \n",
            "*  *  \n",
            "*  *  *  \n",
            "*  *  *  *  \n",
            "*  *  *  *  *  \n",
            "*  *  *  *  *  *  \n",
            "*  *  *  *  *  *  *  \n",
            "*  *  *  *  *  *  \n",
            "*  *  *  *  *  \n",
            "*  *  *  *  \n",
            "*  *  *  \n",
            "*  *  \n",
            "*  \n",
            "\n"
          ]
        }
      ]
    },
    {
      "cell_type": "code",
      "source": [
        "def pattern(n):\n",
        "  k =2*n-2\n",
        "  for i in range(0,n-1):\n",
        "      for j in range(0,k):\n",
        "        print(end=' ')\n",
        "      k=k-2\n",
        "      for j in range(0,i+1):\n",
        "        print('*',end=' ')\n",
        "      print('\\r')\n",
        "  k=k-1\n",
        "  for i in range(n-1,-1,-1):\n",
        "    for j in range(k,-1,-1):\n",
        "      print(end=' ')\n",
        "    k=k+2\n",
        "    for j in range(0,i+1):\n",
        "      print('*',end=' ')\n",
        "    print('\\r')\n",
        "\n",
        "pattern(7)"
      ],
      "metadata": {
        "id": "liW6zE5nrLKS",
        "colab": {
          "base_uri": "https://localhost:8080/"
        },
        "outputId": "de9181d3-aed0-46f8-a0e9-e2a1b46bbcf4"
      },
      "execution_count": 15,
      "outputs": [
        {
          "output_type": "stream",
          "name": "stdout",
          "text": [
            "            * \r\n",
            "          * * \r\n",
            "        * * * \r\n",
            "      * * * * \r\n",
            "    * * * * * \r\n",
            "  * * * * * * \r\n",
            "* * * * * * * \r\n",
            "  * * * * * * \r\n",
            "    * * * * * \r\n",
            "      * * * * \r\n",
            "        * * * \r\n",
            "          * * \r\n",
            "            * \r\n"
          ]
        }
      ]
    },
    {
      "cell_type": "code",
      "source": [
        "#hourGlassPattern\n",
        "def pattern(n):\n",
        "  k =n-2\n",
        "  for i in range(n,-1,-1):\n",
        "    for j in range(k,0,-1):\n",
        "      print(end=' ')\n",
        "    k=k+1\n",
        "    for j in range(i+1):\n",
        "      print('*',end=' ')\n",
        "    print('\\r')\n",
        "  k=2*n-2\n",
        "  for i in range(0,n+1):\n",
        "    for j in range(0,k):\n",
        "      print(end=' ')\n",
        "    k = k-1\n",
        "    for j in range(0,i+1):\n",
        "      print('*',end=' ')\n",
        "    print(\"\\r\") \n",
        "\n",
        "pattern(6)"
      ],
      "metadata": {
        "colab": {
          "base_uri": "https://localhost:8080/"
        },
        "id": "HJtnO7NcovNy",
        "outputId": "816714db-4f4c-4e12-cae8-a06b12ebc97c"
      },
      "execution_count": 64,
      "outputs": [
        {
          "output_type": "stream",
          "name": "stdout",
          "text": [
            "    * * * * * * * \r\n",
            "     * * * * * * \r\n",
            "      * * * * * \r\n",
            "       * * * * \r\n",
            "        * * * \r\n",
            "         * * \r\n",
            "          * \r\n",
            "          * \r\n",
            "         * * \r\n",
            "        * * * \r\n",
            "       * * * * \r\n",
            "      * * * * * \r\n",
            "     * * * * * * \r\n",
            "    * * * * * * * \r\n"
          ]
        }
      ]
    },
    {
      "cell_type": "code",
      "source": [
        "#downward half pyarmid\n",
        "def pattern(n):\n",
        "  for i in range(n,-1,-1):\n",
        "    for j in range(0,i+1):\n",
        "      print('*',end=' ')\n",
        "    print('\\r')\n",
        "\n",
        "pattern(6)"
      ],
      "metadata": {
        "colab": {
          "base_uri": "https://localhost:8080/"
        },
        "id": "sLm51yK2p0Hw",
        "outputId": "ac4ce823-9927-445f-b8ca-7dd4db1d3aa1"
      },
      "execution_count": 85,
      "outputs": [
        {
          "output_type": "stream",
          "name": "stdout",
          "text": [
            "* * * * * * * \r\n",
            "* * * * * * \r\n",
            "* * * * * \r\n",
            "* * * * \r\n",
            "* * * \r\n",
            "* * \r\n",
            "* \r\n"
          ]
        }
      ]
    },
    {
      "cell_type": "code",
      "source": [],
      "metadata": {
        "id": "utyeKXfG-o7D"
      },
      "execution_count": null,
      "outputs": []
    }
  ]
}